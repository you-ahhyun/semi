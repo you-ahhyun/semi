{
 "cells": [
  {
   "cell_type": "code",
   "execution_count": 18,
   "metadata": {},
   "outputs": [],
   "source": [
    "import pandas as pd\n",
    "import matplotlib.pyplot as plt\n",
    "import seaborn as sns"
   ]
  },
  {
   "cell_type": "code",
   "execution_count": 14,
   "metadata": {},
   "outputs": [],
   "source": [
    "seoul_ratio = pd.read_excel('서울시 최종 비율.xlsx', encoding='utf-8')"
   ]
  },
  {
   "cell_type": "code",
   "execution_count": 15,
   "metadata": {},
   "outputs": [
    {
     "data": {
      "text/html": [
       "<div>\n",
       "<style scoped>\n",
       "    .dataframe tbody tr th:only-of-type {\n",
       "        vertical-align: middle;\n",
       "    }\n",
       "\n",
       "    .dataframe tbody tr th {\n",
       "        vertical-align: top;\n",
       "    }\n",
       "\n",
       "    .dataframe thead th {\n",
       "        text-align: right;\n",
       "    }\n",
       "</style>\n",
       "<table border=\"1\" class=\"dataframe\">\n",
       "  <thead>\n",
       "    <tr style=\"text-align: right;\">\n",
       "      <th></th>\n",
       "      <th>accident_ratio</th>\n",
       "      <th>protect_ratio</th>\n",
       "      <th>cctv_ratio</th>\n",
       "      <th>facility_ratio</th>\n",
       "      <th>cctv_kids_ratio</th>\n",
       "      <th>speedcamera_ratio</th>\n",
       "    </tr>\n",
       "  </thead>\n",
       "  <tbody>\n",
       "    <tr>\n",
       "      <th>0</th>\n",
       "      <td>1340.635621</td>\n",
       "      <td>70.374573</td>\n",
       "      <td>3386.776339</td>\n",
       "      <td>188.251984</td>\n",
       "      <td>66.855845</td>\n",
       "      <td>263.904650</td>\n",
       "    </tr>\n",
       "    <tr>\n",
       "      <th>1</th>\n",
       "      <td>8.407020</td>\n",
       "      <td>30.825739</td>\n",
       "      <td>1176.982751</td>\n",
       "      <td>88.740763</td>\n",
       "      <td>47.639778</td>\n",
       "      <td>15.879926</td>\n",
       "    </tr>\n",
       "    <tr>\n",
       "      <th>2</th>\n",
       "      <td>8.061711</td>\n",
       "      <td>33.254559</td>\n",
       "      <td>2397.351377</td>\n",
       "      <td>148.133944</td>\n",
       "      <td>180.380789</td>\n",
       "      <td>20.154278</td>\n",
       "    </tr>\n",
       "    <tr>\n",
       "      <th>3</th>\n",
       "      <td>7.296837</td>\n",
       "      <td>26.581337</td>\n",
       "      <td>1331.151638</td>\n",
       "      <td>119.876616</td>\n",
       "      <td>198.578220</td>\n",
       "      <td>5.212027</td>\n",
       "    </tr>\n",
       "    <tr>\n",
       "      <th>4</th>\n",
       "      <td>9.277190</td>\n",
       "      <td>36.132212</td>\n",
       "      <td>599.599415</td>\n",
       "      <td>118.650373</td>\n",
       "      <td>79.100249</td>\n",
       "      <td>27.831569</td>\n",
       "    </tr>\n",
       "  </tbody>\n",
       "</table>\n",
       "</div>"
      ],
      "text/plain": [
       "   accident_ratio  protect_ratio   cctv_ratio  facility_ratio  \\\n",
       "0     1340.635621      70.374573  3386.776339      188.251984   \n",
       "1        8.407020      30.825739  1176.982751       88.740763   \n",
       "2        8.061711      33.254559  2397.351377      148.133944   \n",
       "3        7.296837      26.581337  1331.151638      119.876616   \n",
       "4        9.277190      36.132212   599.599415      118.650373   \n",
       "\n",
       "   cctv_kids_ratio  speedcamera_ratio  \n",
       "0        66.855845         263.904650  \n",
       "1        47.639778          15.879926  \n",
       "2       180.380789          20.154278  \n",
       "3       198.578220           5.212027  \n",
       "4        79.100249          27.831569  "
      ]
     },
     "execution_count": 15,
     "metadata": {},
     "output_type": "execute_result"
    }
   ],
   "source": [
    "corrdat = seoul_ratio[['accident_ratio','protect_ratio','cctv_ratio', 'facility_ratio', 'cctv_kids_ratio', 'speedcamera_ratio' ]]\n",
    "corrdat.head()"
   ]
  },
  {
   "cell_type": "code",
   "execution_count": 17,
   "metadata": {},
   "outputs": [
    {
     "name": "stdout",
     "output_type": "stream",
     "text": [
      "                   accident_ratio  protect_ratio  cctv_ratio  facility_ratio  \\\n",
      "accident_ratio           1.000000       0.493729    0.598088        0.097415   \n",
      "protect_ratio            0.493729       1.000000    0.539529        0.642905   \n",
      "cctv_ratio               0.598088       0.539529    1.000000        0.112415   \n",
      "facility_ratio           0.097415       0.642905    0.112415        1.000000   \n",
      "cctv_kids_ratio         -0.168415       0.168625    0.416922        0.112795   \n",
      "speedcamera_ratio        0.936676       0.453582    0.588370       -0.002717   \n",
      "\n",
      "                   cctv_kids_ratio  speedcamera_ratio  \n",
      "accident_ratio           -0.168415           0.936676  \n",
      "protect_ratio             0.168625           0.453582  \n",
      "cctv_ratio                0.416922           0.588370  \n",
      "facility_ratio            0.112795          -0.002717  \n",
      "cctv_kids_ratio           1.000000          -0.199573  \n",
      "speedcamera_ratio        -0.199573           1.000000  \n"
     ]
    }
   ],
   "source": [
    "corr = corrdat.corr(method='pearson')\n",
    "print(corr)"
   ]
  },
  {
   "cell_type": "code",
   "execution_count": 19,
   "metadata": {},
   "outputs": [
    {
     "data": {
      "image/png": "[encoded data removed]",
      "text/plain": [
       "<Figure size 432x288 with 2 Axes>"
      ]
     },
     "metadata": {
      "needs_background": "light"
     },
     "output_type": "display_data"
    }
   ],
   "source": [
    "sns.heatmap(corr, cmap='viridis')\n",
    "plt.show()"
   ]
  }
 ],
 "metadata": {
  "kernelspec": {
   "display_name": "Python 3",
   "language": "python",
   "name": "python3"
  },
  "language_info": {
   "codemirror_mode": {
    "name": "ipython",
    "version": 3
   },
   "file_extension": ".py",
   "mimetype": "text/x-python",
   "name": "python",
   "nbconvert_exporter": "python",
   "pygments_lexer": "ipython3",
   "version": "3.7.3"
  }
 },
 "nbformat": 4,
 "nbformat_minor": 2
}
